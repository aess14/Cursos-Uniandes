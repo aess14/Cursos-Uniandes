{
 "cells": [
  {
   "cell_type": "code",
   "execution_count": 1,
   "metadata": {},
   "outputs": [],
   "source": [
    "import numpy as np\n",
    "import matplotlib.pyplot as plt\n",
    "%matplotlib inline"
   ]
  },
  {
   "cell_type": "code",
   "execution_count": 6,
   "metadata": {},
   "outputs": [],
   "source": [
    "def model(x, c):\n",
    "    n_dim = len(c)\n",
    "    y = np.zeros(len(x))\n",
    "    for i in range(n_dim):\n",
    "        y += c[i] * (x**i)\n",
    "    return y\n",
    "        \n",
    "def loglike(x_obs, y_obs, y_sigma_obs, params):\n",
    "    y_model = model(x_obs, params)\n",
    "    d = -0.5 * ((y_model - y_obs)/y_sigma_obs)**2\n",
    "    norm = np.sqrt(2.0 * np.pi * y_sigma_obs **2)\n",
    "    return np.sum(d - np.log(norm))\n",
    "\n",
    "def evidence(x_obs, y_obs, y_sigma_obs, n_dim=1, N = 100000):\n",
    "    params = np.random.random(N * n_dim) * 2.0 - 1.0\n",
    "    params = np.reshape(params, [N, n_dim])\n",
    "    loglike_params = np.zeros(N)\n",
    "    for i in range(N):\n",
    "        loglike_params[i] = loglike(x_obs, y_obs, y_sigma_obs, params[i,:])\n",
    "    \n",
    "    e = np.exp(loglike_params)    \n",
    "    return np.mean(e)"
   ]
  },
  {
   "cell_type": "code",
   "execution_count": 7,
   "metadata": {},
   "outputs": [
    {
     "data": {
      "text/plain": [
       "Text(0,0.5,'y')"
      ]
     },
     "execution_count": 7,
     "metadata": {},
     "output_type": "execute_result"
    },
    {
     "data": {
      "image/png": "[encoded data removed]",
      "text/plain": [
       "<Figure size 432x288 with 1 Axes>"
      ]
     },
     "metadata": {},
     "output_type": "display_data"
    }
   ],
   "source": [
    "data = np.loadtxt('../ejercicios/data/fitting.txt')\n",
    "x_obs = data[:,0]\n",
    "y_obs = data[:,1]\n",
    "y_sigma_obs = data[:,2]\n",
    "plt.errorbar(x_obs, y_obs, y_sigma_obs, fmt='o')\n",
    "plt.xlabel('x')\n",
    "plt.ylabel('y')"
   ]
  },
  {
   "cell_type": "code",
   "execution_count": 8,
   "metadata": {},
   "outputs": [
    {
     "name": "stdout",
     "output_type": "stream",
     "text": [
      "1.35641413496e-22\n",
      "2.10736574182e-12\n",
      "7.63760199148e-05\n",
      "1354.34908065\n",
      "142312833.482\n",
      "1208624.10728\n",
      "1.17554570314\n",
      "2.0457534779e-18\n",
      "1.55202104897e-13\n",
      "8.3319852082e-07\n",
      "0.0140407279756\n",
      "5.50351887493e-06\n",
      "3.10700124821e-13\n",
      "1.32328344005e-11\n",
      "5.84233215871e-26\n",
      "1.84484327939e-19\n",
      "5.36236258726e-07\n",
      "1.20527268972e-19\n",
      "0.203841796287\n",
      "0.0265893691183\n",
      "6.53351127615e-15\n"
     ]
    }
   ],
   "source": [
    "n_dims = 21\n",
    "e = np.zeros(n_dims)\n",
    "for i in range(n_dims):\n",
    "    e[i] = evidence(x_obs, y_obs, y_sigma_obs, n_dim=i+1)\n",
    "    print(e[i])"
   ]
  },
  {
   "cell_type": "code",
   "execution_count": 10,
   "metadata": {},
   "outputs": [
    {
     "data": {
      "text/plain": [
       "(0, 20)"
      ]
     },
     "execution_count": 10,
     "metadata": {},
     "output_type": "execute_result"
    },
    {
     "data": {
      "image/png": "[encoded data removed]",
      "text/plain": [
       "<Figure size 432x288 with 1 Axes>"
      ]
     },
     "metadata": {},
     "output_type": "display_data"
    }
   ],
   "source": [
    "#plt.vlines(range(n_dims), np.zeros(n_dims), np.log10(e), linewidth=4)\n",
    "plt.scatter(range(n_dims),(e), linewidth=4)\n",
    "plt.plot(range(n_dims),(e))\n",
    "_ = plt.xticks(np.linspace(0,20,21))\n",
    "plt.xlim([0,20])"
   ]
  },
  {
   "cell_type": "code",
   "execution_count": null,
   "metadata": {},
   "outputs": [],
   "source": []
  }
 ],
 "metadata": {
  "kernelspec": {
   "display_name": "Python 3",
   "language": "python",
   "name": "python3"
  },
  "language_info": {
   "codemirror_mode": {
    "name": "ipython",
    "version": 3
   },
   "file_extension": ".py",
   "mimetype": "text/x-python",
   "name": "python",
   "nbconvert_exporter": "python",
   "pygments_lexer": "ipython3",
   "version": "3.6.6"
  }
 },
 "nbformat": 4,
 "nbformat_minor": 2
}
